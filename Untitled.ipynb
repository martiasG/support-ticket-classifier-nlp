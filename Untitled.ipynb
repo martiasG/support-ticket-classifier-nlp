{
 "cells": [
  {
   "cell_type": "code",
   "execution_count": 60,
   "metadata": {},
   "outputs": [],
   "source": [
    "import pandas as pd\n",
    "import nltk as nk\n",
    "import seaborn as sns\n",
    "import matplotlib.pyplot as plt\n",
    "import string\n",
    "from nltk.corpus import stopwords\n",
    "from sklearn.feature_extraction.text import CountVectorizer\n",
    "from sklearn.naive_bayes import MultinomialNB\n",
    "from sklearn.pipeline import Pipeline\n",
    "from sklearn.model_selection import train_test_split\n",
    "from sklearn.feature_extraction.text import TfidfTransformer\n",
    "from sklearn.metrics import classification_report\n",
    "from nltk.stem import SnowballStemmer \n",
    "\n",
    "%matplotlib inline"
   ]
  },
  {
   "cell_type": "code",
   "execution_count": 2,
   "metadata": {},
   "outputs": [],
   "source": [
    "tickets = pd.read_excel('ticketsSupportxls')"
   ]
  },
  {
   "cell_type": "code",
   "execution_count": 3,
   "metadata": {},
   "outputs": [
    {
     "data": {
      "text/html": [
       "<div>\n",
       "<style scoped>\n",
       "    .dataframe tbody tr th:only-of-type {\n",
       "        vertical-align: middle;\n",
       "    }\n",
       "\n",
       "    .dataframe tbody tr th {\n",
       "        vertical-align: top;\n",
       "    }\n",
       "\n",
       "    .dataframe thead th {\n",
       "        text-align: right;\n",
       "    }\n",
       "</style>\n",
       "<table border=\"1\" class=\"dataframe\">\n",
       "  <thead>\n",
       "    <tr style=\"text-align: right;\">\n",
       "      <th></th>\n",
       "      <th>Ticket #</th>\n",
       "      <th>Asunto</th>\n",
       "      <th>Cliente</th>\n",
       "      <th>País</th>\n",
       "      <th>Técnico asignado</th>\n",
       "      <th>Descripción</th>\n",
       "      <th>Estado</th>\n",
       "      <th>Fecha de creación</th>\n",
       "      <th>label</th>\n",
       "    </tr>\n",
       "  </thead>\n",
       "  <tbody>\n",
       "    <tr>\n",
       "      <th>0</th>\n",
       "      <td>10227</td>\n",
       "      <td>Firmware Zkt Eco MB 300</td>\n",
       "      <td>ENOC</td>\n",
       "      <td>Mexico</td>\n",
       "      <td>Eduardo</td>\n",
       "      <td>Podrían mandarme el firmware para el reloj che...</td>\n",
       "      <td>En proceso</td>\n",
       "      <td>2018-01-16 01:26:27.0</td>\n",
       "      <td>request software</td>\n",
       "    </tr>\n",
       "    <tr>\n",
       "      <th>1</th>\n",
       "      <td>10232</td>\n",
       "      <td>ZKACCESS 3.5</td>\n",
       "      <td>DIEGO</td>\n",
       "      <td>Ecuador</td>\n",
       "      <td>Eduardo</td>\n",
       "      <td>INSTALE EL SOFTWARE EN WINDOWS 10 Y AL TRABAJA...</td>\n",
       "      <td>Sin procesar</td>\n",
       "      <td>2018-01-16 04:58:41.0</td>\n",
       "      <td>Bug error</td>\n",
       "    </tr>\n",
       "    <tr>\n",
       "      <th>2</th>\n",
       "      <td>10229</td>\n",
       "      <td>ZKT ECO LX14</td>\n",
       "      <td>CARLA</td>\n",
       "      <td>Peru</td>\n",
       "      <td>wmagallanes</td>\n",
       "      <td>RELOJ HUELLA ZKT ECO LX14, SOLICITAMOS REINSTA...</td>\n",
       "      <td>En proceso</td>\n",
       "      <td>2018-01-16 01:47:16.0</td>\n",
       "      <td>Request help</td>\n",
       "    </tr>\n",
       "    <tr>\n",
       "      <th>3</th>\n",
       "      <td>10221</td>\n",
       "      <td>Problema al importar empleados de excel</td>\n",
       "      <td>roger</td>\n",
       "      <td>Peru</td>\n",
       "      <td>Williampe</td>\n",
       "      <td>Muy buenos días... tengo 122 usuarios agregado...</td>\n",
       "      <td>En proceso</td>\n",
       "      <td>2018-01-15 22:47:17.0</td>\n",
       "      <td>Bug error</td>\n",
       "    </tr>\n",
       "    <tr>\n",
       "      <th>4</th>\n",
       "      <td>10231</td>\n",
       "      <td>gestion de uhf a travez del inbio</td>\n",
       "      <td>franco</td>\n",
       "      <td>Mexico</td>\n",
       "      <td>omendoza</td>\n",
       "      <td>buen dia, hemos instalado en proyectos para a...</td>\n",
       "      <td>Sin procesar</td>\n",
       "      <td>2018-01-16 03:08:50.0</td>\n",
       "      <td>request info</td>\n",
       "    </tr>\n",
       "  </tbody>\n",
       "</table>\n",
       "</div>"
      ],
      "text/plain": [
       "   Ticket #                                   Asunto Cliente     País  \\\n",
       "0     10227                  Firmware Zkt Eco MB 300   ENOC    Mexico   \n",
       "1     10232                            ZKACCESS 3.5    DIEGO  Ecuador   \n",
       "2     10229                             ZKT ECO LX14   CARLA     Peru   \n",
       "3     10221  Problema al importar empleados de excel   roger     Peru   \n",
       "4     10231        gestion de uhf a travez del inbio  franco   Mexico   \n",
       "\n",
       "  Técnico asignado                                       Descripción   \\\n",
       "0          Eduardo  Podrían mandarme el firmware para el reloj che...   \n",
       "1          Eduardo  INSTALE EL SOFTWARE EN WINDOWS 10 Y AL TRABAJA...   \n",
       "2      wmagallanes  RELOJ HUELLA ZKT ECO LX14, SOLICITAMOS REINSTA...   \n",
       "3        Williampe  Muy buenos días... tengo 122 usuarios agregado...   \n",
       "4         omendoza   buen dia, hemos instalado en proyectos para a...   \n",
       "\n",
       "         Estado      Fecha de creación             label  \n",
       "0    En proceso  2018-01-16 01:26:27.0  request software  \n",
       "1  Sin procesar  2018-01-16 04:58:41.0         Bug error  \n",
       "2    En proceso  2018-01-16 01:47:16.0      Request help  \n",
       "3    En proceso  2018-01-15 22:47:17.0         Bug error  \n",
       "4  Sin procesar  2018-01-16 03:08:50.0      request info  "
      ]
     },
     "execution_count": 3,
     "metadata": {},
     "output_type": "execute_result"
    }
   ],
   "source": [
    "tickets.head()"
   ]
  },
  {
   "cell_type": "code",
   "execution_count": 12,
   "metadata": {},
   "outputs": [],
   "source": [
    "def clean(df, l):\n",
    "    for a in df:\n",
    "        l.append(a.rstrip().replace(' ', '_'))"
   ]
  },
  {
   "cell_type": "code",
   "execution_count": 13,
   "metadata": {},
   "outputs": [],
   "source": [
    "a =[]\n",
    "clean(tickets, a)\n",
    "tickets.columns = a"
   ]
  },
  {
   "cell_type": "code",
   "execution_count": 14,
   "metadata": {},
   "outputs": [
    {
     "name": "stdout",
     "output_type": "stream",
     "text": [
      "<class 'pandas.core.frame.DataFrame'>\n",
      "Int64Index: 135 entries, 0 to 145\n",
      "Data columns (total 9 columns):\n",
      "Ticket_#             135 non-null int64\n",
      "Asunto               135 non-null object\n",
      "Cliente              135 non-null object\n",
      "País                 135 non-null object\n",
      "Técnico_asignado     135 non-null object\n",
      "Descripción          135 non-null object\n",
      "Estado               135 non-null object\n",
      "Fecha_de_creación    135 non-null object\n",
      "label                135 non-null object\n",
      "dtypes: int64(1), object(8)\n",
      "memory usage: 10.5+ KB\n"
     ]
    }
   ],
   "source": [
    "tickets.info()"
   ]
  },
  {
   "cell_type": "code",
   "execution_count": 15,
   "metadata": {},
   "outputs": [
    {
     "data": {
      "text/plain": [
       "Index(['Ticket_#', 'Asunto', 'Cliente', 'País', 'Técnico_asignado',\n",
       "       'Descripción', 'Estado', 'Fecha_de_creación', 'label'],\n",
       "      dtype='object')"
      ]
     },
     "execution_count": 15,
     "metadata": {},
     "output_type": "execute_result"
    }
   ],
   "source": [
    "tickets.columns"
   ]
  },
  {
   "cell_type": "code",
   "execution_count": 111,
   "metadata": {},
   "outputs": [],
   "source": [
    "tickets.drop_duplicates(subset='Descripción', keep='first', inplace=True)"
   ]
  },
  {
   "cell_type": "code",
   "execution_count": 117,
   "metadata": {},
   "outputs": [],
   "source": [
    "tickets['label'] = tickets['label'].apply(lambda s : s.replace('bug error', 'bug'))\n",
    "tickets['label'] = tickets['label'].apply(lambda s : s.replace('Bug error', 'bug'))\n",
    "tickets['label'] = tickets['label'].apply(lambda s : s.replace('request sotfware', 'request'))\n",
    "tickets['label'] = tickets['label'].apply(lambda s : s.replace('request info', 'request'))\n",
    "tickets['label'] = tickets['label'].apply(lambda s : s.replace('request help', 'request'))\n",
    "tickets['label'] = tickets['label'].apply(lambda s : s.replace('Request help', 'request'))\n",
    "tickets['label'] = tickets['label'].apply(lambda s : s.replace('Bug', 'bug'))\n",
    "tickets['label'] = tickets['label'].apply(lambda s : s.replace('request change', 'change'))\n",
    "tickets['label'] = tickets['label'].apply(lambda s : s.replace('change', 'custom'))\n",
    "tickets['label'] = tickets['label'].apply(lambda s : s.replace('bug / request', 'request'))"
   ]
  },
  {
   "cell_type": "code",
   "execution_count": 115,
   "metadata": {},
   "outputs": [
    {
     "data": {
      "text/plain": [
       "0       request\n",
       "1           bug\n",
       "2       request\n",
       "3           bug\n",
       "4       request\n",
       "5           bug\n",
       "6           bug\n",
       "7        custom\n",
       "8           bug\n",
       "9       request\n",
       "10          bug\n",
       "11      request\n",
       "12      request\n",
       "13          bug\n",
       "14      request\n",
       "15          bug\n",
       "16          bug\n",
       "17      request\n",
       "18      request\n",
       "19      request\n",
       "20          bug\n",
       "21          bug\n",
       "22      request\n",
       "23      request\n",
       "24       custom\n",
       "25      request\n",
       "26      request\n",
       "27      request\n",
       "28          bug\n",
       "29      request\n",
       "         ...   \n",
       "113     request\n",
       "114         bug\n",
       "116     request\n",
       "117     request\n",
       "118     request\n",
       "119         bug\n",
       "120         bug\n",
       "121     request\n",
       "122         bug\n",
       "123     request\n",
       "124     request\n",
       "125     request\n",
       "126     request\n",
       "127     request\n",
       "128     request\n",
       "129         bug\n",
       "130         bug\n",
       "131     request\n",
       "133     request\n",
       "135     request\n",
       "136       WHAT?\n",
       "137       WHAT?\n",
       "138     request\n",
       "139         bug\n",
       "140     request\n",
       "141     request\n",
       "142    what dup\n",
       "143     request\n",
       "144     request\n",
       "145         bug\n",
       "Name: label, Length: 135, dtype: object"
      ]
     },
     "execution_count": 115,
     "metadata": {},
     "output_type": "execute_result"
    }
   ],
   "source": [
    "tickets['label']"
   ]
  },
  {
   "cell_type": "code",
   "execution_count": 118,
   "metadata": {},
   "outputs": [
    {
     "data": {
      "image/png": "[encoded data removed]",
      "text/plain": [
       "<matplotlib.figure.Figure at 0x1a1fe5cf98>"
      ]
     },
     "metadata": {},
     "output_type": "display_data"
    }
   ],
   "source": [
    "tickets.hist(column='label', by='Estado', figsize=(14, 8), bins=50)\n",
    "plt.tight_layout()"
   ]
  },
  {
   "cell_type": "code",
   "execution_count": 119,
   "metadata": {},
   "outputs": [],
   "source": [
    "def removePunctuation(sentence):\n",
    "    r = [char for char in sentence if char not in string.punctuation]\n",
    "    return ''.join(r)"
   ]
  },
  {
   "cell_type": "code",
   "execution_count": 120,
   "metadata": {},
   "outputs": [],
   "source": [
    "def removeStopWords(sentence):\n",
    "    return [word for word in sentence.split() if word.lower() not in stopwords.words('spanish')]\n",
    "\n",
    "#look for similar words..."
   ]
  },
  {
   "cell_type": "code",
   "execution_count": 121,
   "metadata": {},
   "outputs": [],
   "source": [
    "def cleanText(s):\n",
    "    return stem_tokens(removeStopWords(removePunctuation(s)))"
   ]
  },
  {
   "cell_type": "code",
   "execution_count": 122,
   "metadata": {},
   "outputs": [],
   "source": [
    "def stem_tokens(tokens):\n",
    "    stemmer = SnowballStemmer('spanish')\n",
    "    stemmed = []\n",
    "    for item in tokens:\n",
    "        stemmed.append(stemmer.stem(item))\n",
    "    return stemmed"
   ]
  },
  {
   "cell_type": "code",
   "execution_count": 123,
   "metadata": {},
   "outputs": [
    {
     "data": {
      "text/plain": [
       "['buen',\n",
       " 'estim',\n",
       " 'sal',\n",
       " 'error',\n",
       " 'moment',\n",
       " 'registr',\n",
       " 'huell',\n",
       " 'softwar',\n",
       " 'hiz',\n",
       " 'prueb',\n",
       " 'zktimenetlitesetup1623',\n",
       " 'zktimenet302102032017',\n",
       " 'error',\n",
       " 'softwar',\n",
       " 'registr',\n",
       " 'fall',\n",
       " 'favor',\n",
       " 'ayud',\n",
       " 'tecnic']"
      ]
     },
     "execution_count": 123,
     "metadata": {},
     "output_type": "execute_result"
    }
   ],
   "source": [
    "cleanText(trainset['Descripción'].iloc[5])"
   ]
  },
  {
   "cell_type": "code",
   "execution_count": 124,
   "metadata": {},
   "outputs": [],
   "source": [
    "trainset = tickets\n",
    "X_train, X_test, y_train, y_test = train_test_split(trainset['Descripción'], trainset['label'], test_size=0.25, random_state=42)"
   ]
  },
  {
   "cell_type": "code",
   "execution_count": 125,
   "metadata": {},
   "outputs": [],
   "source": [
    "predict_pipeline = Pipeline([\n",
    "    ('BOW', CountVectorizer(analyzer=cleanText)),\n",
    "    ('Tifid', TfidfTransformer()),\n",
    "    ('Clasifier', MultinomialNB())\n",
    "                            ])"
   ]
  },
  {
   "cell_type": "code",
   "execution_count": 126,
   "metadata": {},
   "outputs": [
    {
     "data": {
      "text/plain": [
       "Pipeline(memory=None,\n",
       "     steps=[('BOW', CountVectorizer(analyzer=<function cleanText at 0x1a202ec510>, binary=False,\n",
       "        decode_error='strict', dtype=<class 'numpy.int64'>,\n",
       "        encoding='utf-8', input='content', lowercase=True, max_df=1.0,\n",
       "        max_features=None, min_df=1, ngram_range=(1, 1), preprocessor=None,\n",
       " ...tf=False, use_idf=True)), ('Clasifier', MultinomialNB(alpha=1.0, class_prior=None, fit_prior=True))])"
      ]
     },
     "execution_count": 126,
     "metadata": {},
     "output_type": "execute_result"
    }
   ],
   "source": [
    "predict_pipeline.fit(X_train, y_train)"
   ]
  },
  {
   "cell_type": "code",
   "execution_count": 127,
   "metadata": {},
   "outputs": [
    {
     "data": {
      "text/plain": [
       "'bug'"
      ]
     },
     "execution_count": 127,
     "metadata": {},
     "output_type": "execute_result"
    }
   ],
   "source": [
    "trainset['label'].iloc[5]"
   ]
  },
  {
   "cell_type": "code",
   "execution_count": 128,
   "metadata": {},
   "outputs": [
    {
     "data": {
      "text/plain": [
       "array(['bug'],\n",
       "      dtype='<U11')"
      ]
     },
     "execution_count": 128,
     "metadata": {},
     "output_type": "execute_result"
    }
   ],
   "source": [
    "predict_pipeline.predict([trainset['Descripción'].iloc[5]])"
   ]
  },
  {
   "cell_type": "code",
   "execution_count": 129,
   "metadata": {},
   "outputs": [],
   "source": [
    "predictions = predict_pipeline.predict(X_test)"
   ]
  },
  {
   "cell_type": "code",
   "execution_count": 130,
   "metadata": {},
   "outputs": [
    {
     "data": {
      "text/plain": [
       "array(['request', 'request', 'request', 'request', 'request', 'request',\n",
       "       'request', 'request', 'request', 'bug', 'request', 'request',\n",
       "       'request', 'request', 'request', 'request', 'request', 'request',\n",
       "       'request', 'request', 'request', 'request', 'bug', 'request',\n",
       "       'request', 'request', 'request', 'request', 'request', 'request',\n",
       "       'request', 'bug', 'request', 'request'],\n",
       "      dtype='<U11')"
      ]
     },
     "execution_count": 130,
     "metadata": {},
     "output_type": "execute_result"
    }
   ],
   "source": [
    "predictions"
   ]
  },
  {
   "cell_type": "code",
   "execution_count": 131,
   "metadata": {},
   "outputs": [
    {
     "name": "stdout",
     "output_type": "stream",
     "text": [
      "             precision    recall  f1-score   support\n",
      "\n",
      "      WHAT?       0.00      0.00      0.00         0\n",
      "        bug       0.22      0.67      0.33         3\n",
      "     custom       0.00      0.00      0.00         0\n",
      "    request       0.95      0.68      0.79        31\n",
      "\n",
      "avg / total       0.89      0.68      0.75        34\n",
      "\n"
     ]
    },
    {
     "name": "stderr",
     "output_type": "stream",
     "text": [
      "/Users/matiasgonzalez/anaconda2/envs/python3DevelopmentPythonCourse/lib/python3.6/site-packages/sklearn/metrics/classification.py:1137: UndefinedMetricWarning: Recall and F-score are ill-defined and being set to 0.0 in labels with no true samples.\n",
      "  'recall', 'true', average, warn_for)\n"
     ]
    }
   ],
   "source": [
    "print(classification_report(predictions, y_test))"
   ]
  },
  {
   "cell_type": "code",
   "execution_count": null,
   "metadata": {},
   "outputs": [],
   "source": []
  }
 ],
 "metadata": {
  "kernelspec": {
   "display_name": "Python 3",
   "language": "python",
   "name": "python3"
  },
  "language_info": {
   "codemirror_mode": {
    "name": "ipython",
    "version": 3
   },
   "file_extension": ".py",
   "mimetype": "text/x-python",
   "name": "python",
   "nbconvert_exporter": "python",
   "pygments_lexer": "ipython3",
   "version": "3.6.3"
  }
 },
 "nbformat": 4,
 "nbformat_minor": 2
}
